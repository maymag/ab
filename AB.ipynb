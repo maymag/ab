{
 "cells": [
  {
   "cell_type": "code",
   "execution_count": 1,
   "metadata": {},
   "outputs": [],
   "source": [
    "import seaborn as sb\n",
    "import numpy as np\n",
    "import pandas as pd\n",
    "import matplotlib.pyplot as plt\n",
    "%matplotlib inline\n",
    "from scipy.stats import mannwhitneyu\n",
    "from scipy.stats import ttest_ind\n",
    "import json"
   ]
  },
  {
   "cell_type": "markdown",
   "metadata": {},
   "source": [
    "## Data Prep"
   ]
  },
  {
   "cell_type": "code",
   "execution_count": 2,
   "metadata": {},
   "outputs": [],
   "source": [
    "users=pd.read_csv('user_attributes.csv')"
   ]
  },
  {
   "cell_type": "code",
   "execution_count": 3,
   "metadata": {},
   "outputs": [
    {
     "data": {
      "text/html": [
       "<div>\n",
       "<style scoped>\n",
       "    .dataframe tbody tr th:only-of-type {\n",
       "        vertical-align: middle;\n",
       "    }\n",
       "\n",
       "    .dataframe tbody tr th {\n",
       "        vertical-align: top;\n",
       "    }\n",
       "\n",
       "    .dataframe thead th {\n",
       "        text-align: right;\n",
       "    }\n",
       "</style>\n",
       "<table border=\"1\" class=\"dataframe\">\n",
       "  <thead>\n",
       "    <tr style=\"text-align: right;\">\n",
       "      <th></th>\n",
       "      <th>user_id</th>\n",
       "      <th>attributes</th>\n",
       "    </tr>\n",
       "  </thead>\n",
       "  <tbody>\n",
       "    <tr>\n",
       "      <th>0</th>\n",
       "      <td>00003e3b9e5336685200ae85d21b4f5e</td>\n",
       "      <td>{\"age\": 33, \"gender\": \"F\", \"location\": \"FL\", \"...</td>\n",
       "    </tr>\n",
       "    <tr>\n",
       "      <th>1</th>\n",
       "      <td>000053b1e684c9e7ea73727b2238ce18</td>\n",
       "      <td>{\"age\": 26, \"gender\": \"M\", \"location\": \"AL\", \"...</td>\n",
       "    </tr>\n",
       "    <tr>\n",
       "      <th>2</th>\n",
       "      <td>00029153d12ae1c9abe59c17ff2e0895</td>\n",
       "      <td>{\"age\": 29, \"gender\": \"F\", \"location\": \"AR\", \"...</td>\n",
       "    </tr>\n",
       "    <tr>\n",
       "      <th>3</th>\n",
       "      <td>0002ac0d783338cfeab0b2bdbd872cda</td>\n",
       "      <td>{\"age\": 29, \"gender\": \"M\", \"location\": \"SC\", \"...</td>\n",
       "    </tr>\n",
       "    <tr>\n",
       "      <th>4</th>\n",
       "      <td>0004d0b59e19461ff126e3a08a814c33</td>\n",
       "      <td>{\"age\": 27, \"gender\": \"F\", \"location\": \"AR\", \"...</td>\n",
       "    </tr>\n",
       "  </tbody>\n",
       "</table>\n",
       "</div>"
      ],
      "text/plain": [
       "                            user_id  \\\n",
       "0  00003e3b9e5336685200ae85d21b4f5e   \n",
       "1  000053b1e684c9e7ea73727b2238ce18   \n",
       "2  00029153d12ae1c9abe59c17ff2e0895   \n",
       "3  0002ac0d783338cfeab0b2bdbd872cda   \n",
       "4  0004d0b59e19461ff126e3a08a814c33   \n",
       "\n",
       "                                          attributes  \n",
       "0  {\"age\": 33, \"gender\": \"F\", \"location\": \"FL\", \"...  \n",
       "1  {\"age\": 26, \"gender\": \"M\", \"location\": \"AL\", \"...  \n",
       "2  {\"age\": 29, \"gender\": \"F\", \"location\": \"AR\", \"...  \n",
       "3  {\"age\": 29, \"gender\": \"M\", \"location\": \"SC\", \"...  \n",
       "4  {\"age\": 27, \"gender\": \"F\", \"location\": \"AR\", \"...  "
      ]
     },
     "execution_count": 3,
     "metadata": {},
     "output_type": "execute_result"
    }
   ],
   "source": [
    "users.head()"
   ]
  },
  {
   "cell_type": "code",
   "execution_count": 4,
   "metadata": {},
   "outputs": [],
   "source": [
    "bids=pd.read_csv('bid_requests.csv')"
   ]
  },
  {
   "cell_type": "code",
   "execution_count": 5,
   "metadata": {},
   "outputs": [],
   "source": [
    "columns=list(json.loads(users['attributes'][0]).keys())"
   ]
  },
  {
   "cell_type": "code",
   "execution_count": 6,
   "metadata": {},
   "outputs": [],
   "source": [
    "users2=pd.DataFrame(np.asarray(list(users['attributes'].apply(lambda x: sorted(json.loads(x).items()))))[:,:,1],columns=columns)\n",
    "users2['user_id']=users['user_id']"
   ]
  },
  {
   "cell_type": "code",
   "execution_count": 7,
   "metadata": {},
   "outputs": [
    {
     "data": {
      "text/html": [
       "<div>\n",
       "<style scoped>\n",
       "    .dataframe tbody tr th:only-of-type {\n",
       "        vertical-align: middle;\n",
       "    }\n",
       "\n",
       "    .dataframe tbody tr th {\n",
       "        vertical-align: top;\n",
       "    }\n",
       "\n",
       "    .dataframe thead th {\n",
       "        text-align: right;\n",
       "    }\n",
       "</style>\n",
       "<table border=\"1\" class=\"dataframe\">\n",
       "  <thead>\n",
       "    <tr style=\"text-align: right;\">\n",
       "      <th></th>\n",
       "      <th>age</th>\n",
       "      <th>gender</th>\n",
       "      <th>location</th>\n",
       "      <th>test</th>\n",
       "      <th>user_id</th>\n",
       "    </tr>\n",
       "  </thead>\n",
       "  <tbody>\n",
       "    <tr>\n",
       "      <th>0</th>\n",
       "      <td>33.0</td>\n",
       "      <td>F</td>\n",
       "      <td>FL</td>\n",
       "      <td>1</td>\n",
       "      <td>00003e3b9e5336685200ae85d21b4f5e</td>\n",
       "    </tr>\n",
       "    <tr>\n",
       "      <th>1</th>\n",
       "      <td>26.0</td>\n",
       "      <td>M</td>\n",
       "      <td>AL</td>\n",
       "      <td>1</td>\n",
       "      <td>000053b1e684c9e7ea73727b2238ce18</td>\n",
       "    </tr>\n",
       "    <tr>\n",
       "      <th>2</th>\n",
       "      <td>29.0</td>\n",
       "      <td>F</td>\n",
       "      <td>AR</td>\n",
       "      <td>1</td>\n",
       "      <td>00029153d12ae1c9abe59c17ff2e0895</td>\n",
       "    </tr>\n",
       "    <tr>\n",
       "      <th>3</th>\n",
       "      <td>29.0</td>\n",
       "      <td>M</td>\n",
       "      <td>SC</td>\n",
       "      <td>0</td>\n",
       "      <td>0002ac0d783338cfeab0b2bdbd872cda</td>\n",
       "    </tr>\n",
       "    <tr>\n",
       "      <th>4</th>\n",
       "      <td>27.0</td>\n",
       "      <td>F</td>\n",
       "      <td>AR</td>\n",
       "      <td>1</td>\n",
       "      <td>0004d0b59e19461ff126e3a08a814c33</td>\n",
       "    </tr>\n",
       "  </tbody>\n",
       "</table>\n",
       "</div>"
      ],
      "text/plain": [
       "    age gender location  test                           user_id\n",
       "0  33.0      F       FL     1  00003e3b9e5336685200ae85d21b4f5e\n",
       "1  26.0      M       AL     1  000053b1e684c9e7ea73727b2238ce18\n",
       "2  29.0      F       AR     1  00029153d12ae1c9abe59c17ff2e0895\n",
       "3  29.0      M       SC     0  0002ac0d783338cfeab0b2bdbd872cda\n",
       "4  27.0      F       AR     1  0004d0b59e19461ff126e3a08a814c33"
      ]
     },
     "execution_count": 7,
     "metadata": {},
     "output_type": "execute_result"
    }
   ],
   "source": [
    "users2['test']=users2['test'].apply(lambda x: int(x))\n",
    "users2['age']=users2['age'].apply(lambda x: float(x))\n",
    "users2.head()"
   ]
  },
  {
   "cell_type": "code",
   "execution_count": 8,
   "metadata": {},
   "outputs": [],
   "source": [
    "users2=users2.drop_duplicates().reset_index(drop=True)\n",
    "bids=bids.drop_duplicates().reset_index(drop=True)\n",
    "final=users2.merge(bids,on='user_id',how='left')"
   ]
  },
  {
   "cell_type": "code",
   "execution_count": 9,
   "metadata": {},
   "outputs": [
    {
     "data": {
      "text/html": [
       "<div>\n",
       "<style scoped>\n",
       "    .dataframe tbody tr th:only-of-type {\n",
       "        vertical-align: middle;\n",
       "    }\n",
       "\n",
       "    .dataframe tbody tr th {\n",
       "        vertical-align: top;\n",
       "    }\n",
       "\n",
       "    .dataframe thead th {\n",
       "        text-align: right;\n",
       "    }\n",
       "</style>\n",
       "<table border=\"1\" class=\"dataframe\">\n",
       "  <thead>\n",
       "    <tr style=\"text-align: right;\">\n",
       "      <th></th>\n",
       "      <th>age</th>\n",
       "      <th>gender</th>\n",
       "      <th>location</th>\n",
       "      <th>test</th>\n",
       "      <th>user_id</th>\n",
       "      <th>timestamp</th>\n",
       "      <th>bid</th>\n",
       "      <th>win</th>\n",
       "      <th>conversion</th>\n",
       "    </tr>\n",
       "  </thead>\n",
       "  <tbody>\n",
       "    <tr>\n",
       "      <th>0</th>\n",
       "      <td>33.0</td>\n",
       "      <td>F</td>\n",
       "      <td>FL</td>\n",
       "      <td>1</td>\n",
       "      <td>00003e3b9e5336685200ae85d21b4f5e</td>\n",
       "      <td>2017-01-01 13:43:34</td>\n",
       "      <td>1.0</td>\n",
       "      <td>0.0</td>\n",
       "      <td>0.0</td>\n",
       "    </tr>\n",
       "    <tr>\n",
       "      <th>1</th>\n",
       "      <td>33.0</td>\n",
       "      <td>F</td>\n",
       "      <td>FL</td>\n",
       "      <td>1</td>\n",
       "      <td>00003e3b9e5336685200ae85d21b4f5e</td>\n",
       "      <td>2017-01-04 03:59:18</td>\n",
       "      <td>0.0</td>\n",
       "      <td>0.0</td>\n",
       "      <td>0.0</td>\n",
       "    </tr>\n",
       "    <tr>\n",
       "      <th>2</th>\n",
       "      <td>33.0</td>\n",
       "      <td>F</td>\n",
       "      <td>FL</td>\n",
       "      <td>1</td>\n",
       "      <td>00003e3b9e5336685200ae85d21b4f5e</td>\n",
       "      <td>2017-01-04 17:41:50</td>\n",
       "      <td>1.0</td>\n",
       "      <td>1.0</td>\n",
       "      <td>0.0</td>\n",
       "    </tr>\n",
       "    <tr>\n",
       "      <th>3</th>\n",
       "      <td>33.0</td>\n",
       "      <td>F</td>\n",
       "      <td>FL</td>\n",
       "      <td>1</td>\n",
       "      <td>00003e3b9e5336685200ae85d21b4f5e</td>\n",
       "      <td>2017-01-07 04:02:42</td>\n",
       "      <td>1.0</td>\n",
       "      <td>1.0</td>\n",
       "      <td>0.0</td>\n",
       "    </tr>\n",
       "    <tr>\n",
       "      <th>4</th>\n",
       "      <td>33.0</td>\n",
       "      <td>F</td>\n",
       "      <td>FL</td>\n",
       "      <td>1</td>\n",
       "      <td>00003e3b9e5336685200ae85d21b4f5e</td>\n",
       "      <td>2017-01-08 09:05:01</td>\n",
       "      <td>1.0</td>\n",
       "      <td>0.0</td>\n",
       "      <td>0.0</td>\n",
       "    </tr>\n",
       "  </tbody>\n",
       "</table>\n",
       "</div>"
      ],
      "text/plain": [
       "    age gender location  test                           user_id  \\\n",
       "0  33.0      F       FL     1  00003e3b9e5336685200ae85d21b4f5e   \n",
       "1  33.0      F       FL     1  00003e3b9e5336685200ae85d21b4f5e   \n",
       "2  33.0      F       FL     1  00003e3b9e5336685200ae85d21b4f5e   \n",
       "3  33.0      F       FL     1  00003e3b9e5336685200ae85d21b4f5e   \n",
       "4  33.0      F       FL     1  00003e3b9e5336685200ae85d21b4f5e   \n",
       "\n",
       "             timestamp  bid  win  conversion  \n",
       "0  2017-01-01 13:43:34  1.0  0.0         0.0  \n",
       "1  2017-01-04 03:59:18  0.0  0.0         0.0  \n",
       "2  2017-01-04 17:41:50  1.0  1.0         0.0  \n",
       "3  2017-01-07 04:02:42  1.0  1.0         0.0  \n",
       "4  2017-01-08 09:05:01  1.0  0.0         0.0  "
      ]
     },
     "execution_count": 9,
     "metadata": {},
     "output_type": "execute_result"
    }
   ],
   "source": [
    "bids=bids.dropna().reset_index(drop=True)\n",
    "users2=users2.dropna().reset_index(drop=True)\n",
    "final=final.dropna().reset_index(drop=True)\n",
    "final.head()"
   ]
  },
  {
   "cell_type": "code",
   "execution_count": 10,
   "metadata": {},
   "outputs": [],
   "source": [
    "test=pd.DataFrame(users2[users2['test']==1])\n",
    "control=pd.DataFrame(users2[users2['test']==0])"
   ]
  },
  {
   "cell_type": "code",
   "execution_count": 22,
   "metadata": {},
   "outputs": [],
   "source": [
    "test2=pd.DataFrame(final[final['test']==1])\n",
    "control2=pd.DataFrame(final[final['test']==0])"
   ]
  },
  {
   "cell_type": "markdown",
   "metadata": {},
   "source": [
    "## Find obvious bias"
   ]
  },
  {
   "cell_type": "code",
   "execution_count": 11,
   "metadata": {},
   "outputs": [
    {
     "name": "stdout",
     "output_type": "stream",
     "text": [
      "Sizes:Test 56084,Control 43916\n"
     ]
    }
   ],
   "source": [
    "print('Sizes:Test {},Control {}'.format(len(test), len(control)))"
   ]
  },
  {
   "cell_type": "code",
   "execution_count": 12,
   "metadata": {},
   "outputs": [
    {
     "name": "stdout",
     "output_type": "stream",
     "text": [
      "Test Gender\n"
     ]
    },
    {
     "data": {
      "text/plain": [
       "F    0.501177\n",
       "M    0.498823\n",
       "Name: gender, dtype: float64"
      ]
     },
     "execution_count": 12,
     "metadata": {},
     "output_type": "execute_result"
    }
   ],
   "source": [
    "print('Test Gender')\n",
    "test['gender'].value_counts()/len(test)"
   ]
  },
  {
   "cell_type": "code",
   "execution_count": 13,
   "metadata": {},
   "outputs": [
    {
     "name": "stdout",
     "output_type": "stream",
     "text": [
      "Control Gender\n"
     ]
    },
    {
     "data": {
      "text/plain": [
       "M    0.503256\n",
       "F    0.496744\n",
       "Name: gender, dtype: float64"
      ]
     },
     "execution_count": 13,
     "metadata": {},
     "output_type": "execute_result"
    }
   ],
   "source": [
    "print('Control Gender')\n",
    "control['gender'].value_counts()/len(control)"
   ]
  },
  {
   "cell_type": "code",
   "execution_count": 14,
   "metadata": {},
   "outputs": [
    {
     "data": {
      "text/plain": [
       "<matplotlib.axes._subplots.AxesSubplot at 0x7fd6ef1fcc40>"
      ]
     },
     "execution_count": 14,
     "metadata": {},
     "output_type": "execute_result"
    },
    {
     "data": {
      "image/png": "[encoded data removed]",
      "text/plain": [
       "<Figure size 432x288 with 1 Axes>"
      ]
     },
     "metadata": {
      "needs_background": "light"
     },
     "output_type": "display_data"
    }
   ],
   "source": [
    "sb.countplot(control['location'].sort_values())"
   ]
  },
  {
   "cell_type": "code",
   "execution_count": 15,
   "metadata": {},
   "outputs": [
    {
     "data": {
      "text/plain": [
       "<matplotlib.axes._subplots.AxesSubplot at 0x7fd6ef1f0e50>"
      ]
     },
     "execution_count": 15,
     "metadata": {},
     "output_type": "execute_result"
    },
    {
     "data": {
      "image/png": "[encoded data removed]",
      "text/plain": [
       "<Figure size 432x288 with 1 Axes>"
      ]
     },
     "metadata": {
      "needs_background": "light"
     },
     "output_type": "display_data"
    }
   ],
   "source": [
    "sb.countplot(test['location'].sort_values())"
   ]
  },
  {
   "cell_type": "code",
   "execution_count": 16,
   "metadata": {},
   "outputs": [
    {
     "name": "stdout",
     "output_type": "stream",
     "text": [
      "Medians: Test 25.0,Control 25.0\n",
      "StandardD: Test 4.6043110471866955,Control4.599852715678207\n"
     ]
    }
   ],
   "source": [
    "print('Medians: Test {},Control {}'.format(np.median(test['age']), np.median(control['age'])))\n",
    "print('StandardD: Test {},Control{}'.format(np.std(test['age']),np.std(control['age'])))"
   ]
  },
  {
   "cell_type": "code",
   "execution_count": 20,
   "metadata": {},
   "outputs": [
    {
     "data": {
      "text/plain": [
       "<matplotlib.legend.Legend at 0x7fd6e97de280>"
      ]
     },
     "execution_count": 20,
     "metadata": {},
     "output_type": "execute_result"
    },
    {
     "data": {
      "image/png": "[encoded data removed]",
      "text/plain": [
       "<Figure size 432x288 with 1 Axes>"
      ]
     },
     "metadata": {
      "needs_background": "light"
     },
     "output_type": "display_data"
    }
   ],
   "source": [
    "plt.hist(test['age'], density=True,label = \"Test\", alpha = .4)\n",
    "\n",
    "plt.title('Age in test and control groups')\n",
    "plt.legend(loc ='upper right')\n"
   ]
  },
  {
   "cell_type": "code",
   "execution_count": 21,
   "metadata": {},
   "outputs": [
    {
     "data": {
      "text/plain": [
       "<matplotlib.legend.Legend at 0x7fd6e95f0a30>"
      ]
     },
     "execution_count": 21,
     "metadata": {},
     "output_type": "execute_result"
    },
    {
     "data": {
      "image/png": "[encoded data removed]",
      "text/plain": [
       "<Figure size 432x288 with 1 Axes>"
      ]
     },
     "metadata": {
      "needs_background": "light"
     },
     "output_type": "display_data"
    }
   ],
   "source": [
    "plt.hist(test['age'], density=True,label = \"Test\", alpha = .4)\n",
    "plt.hist(control['age'],density=True,label = 'Control', alpha = .4)\n",
    "plt.title('Age in test and control groups')\n",
    "plt.legend(loc ='upper right')"
   ]
  },
  {
   "cell_type": "markdown",
   "metadata": {},
   "source": [
    "The goal is to increase weekly conversions 10% in a week (with no lag) using new advertising.\n",
    "A test group will be served a new advertisement and the control group will receive the old one in the same week. I'm testing the null hypothesis which says that the differences between the control and test groups are random, so the p value will be low if the differences are not random. Key metric is viewers clicking on the add and accepting the clients offer."
   ]
  },
  {
   "cell_type": "markdown",
   "metadata": {},
   "source": [
    "## Experiment results"
   ]
  },
  {
   "cell_type": "code",
   "execution_count": 34,
   "metadata": {},
   "outputs": [
    {
     "data": {
      "text/plain": [
       "<matplotlib.legend.Legend at 0x7fd6e922b4f0>"
      ]
     },
     "execution_count": 34,
     "metadata": {},
     "output_type": "execute_result"
    },
    {
     "data": {
      "image/png": "[encoded data removed]",
      "text/plain": [
       "<Figure size 432x288 with 1 Axes>"
      ]
     },
     "metadata": {
      "needs_background": "light"
     },
     "output_type": "display_data"
    }
   ],
   "source": [
    "\n",
    "plt.hist(test2['bid'], density=True,label = \"Test\", alpha = .5)\n",
    "plt.hist(control2['bid'], density=True,label = \"Control\", alpha = .5)\n",
    "plt.title('Bids in test and control groups')\n",
    "plt.legend(loc ='center')"
   ]
  },
  {
   "cell_type": "code",
   "execution_count": 35,
   "metadata": {},
   "outputs": [
    {
     "data": {
      "text/plain": [
       "<matplotlib.legend.Legend at 0x7fd6e94ceb50>"
      ]
     },
     "execution_count": 35,
     "metadata": {},
     "output_type": "execute_result"
    },
    {
     "data": {
      "image/png": "[encoded data removed]",
      "text/plain": [
       "<Figure size 432x288 with 1 Axes>"
      ]
     },
     "metadata": {
      "needs_background": "light"
     },
     "output_type": "display_data"
    }
   ],
   "source": [
    "\n",
    "plt.hist(test2['bid'], density=True,label = \"Test\", alpha = .5)\n",
    "#plt.hist(control2['bid'], density=True,label = \"Control\", alpha = .5)\n",
    "plt.title('Bids in test group')\n",
    "plt.legend(loc ='center')"
   ]
  },
  {
   "cell_type": "code",
   "execution_count": 37,
   "metadata": {},
   "outputs": [
    {
     "data": {
      "text/plain": [
       "<matplotlib.legend.Legend at 0x7fd6e93ab370>"
      ]
     },
     "execution_count": 37,
     "metadata": {},
     "output_type": "execute_result"
    },
    {
     "data": {
      "image/png": "[encoded data removed]",
      "text/plain": [
       "<Figure size 432x288 with 1 Axes>"
      ]
     },
     "metadata": {
      "needs_background": "light"
     },
     "output_type": "display_data"
    }
   ],
   "source": [
    "#only look at wins for bids\n",
    "bidtest=test2[test2['bid']==1]\n",
    "bidcontrol=control2[control2['bid']==1]\n",
    "\n",
    "plt.hist(bidtest['win'], density=True,label = \"Test\", alpha = .5)\n",
    "plt.hist(bidcontrol['win'],density=True,label = 'Control', alpha = .5)\n",
    "plt.title('Wins in test and control groups')\n",
    "plt.legend(loc ='center')"
   ]
  },
  {
   "cell_type": "code",
   "execution_count": 40,
   "metadata": {},
   "outputs": [
    {
     "data": {
      "text/plain": [
       "<matplotlib.legend.Legend at 0x7fd6e9068160>"
      ]
     },
     "execution_count": 40,
     "metadata": {},
     "output_type": "execute_result"
    },
    {
     "data": {
      "image/png": "[encoded data removed]",
      "text/plain": [
       "<Figure size 432x288 with 1 Axes>"
      ]
     },
     "metadata": {
      "needs_background": "light"
     },
     "output_type": "display_data"
    }
   ],
   "source": [
    "plt.hist(bidtest['win'], density=True,label = \"Test\", alpha = .5)\n",
    "#plt.hist(bidcontrol['win'],density=True,label = 'Control', alpha = .5)\n",
    "plt.title('Wins in test group')\n",
    "plt.legend(loc ='center')"
   ]
  },
  {
   "cell_type": "code",
   "execution_count": 42,
   "metadata": {},
   "outputs": [
    {
     "name": "stdout",
     "output_type": "stream",
     "text": [
      "Mean Conversions in Test and Control Groups\n",
      "Test 0.04009693244281577,Control 0.04153193825880056\n"
     ]
    }
   ],
   "source": [
    "#only look at conversions for wins in each group\n",
    "wintest=test2[test2['win']==1]\n",
    "wincontrol=control2[control2['win']==1]\n",
    "\n",
    "print(\"Mean Conversions in Test and Control Groups\")\n",
    "print('Test {},Control {}'.format(np.mean(wintest['conversion']),np.mean(wincontrol['conversion'])))"
   ]
  },
  {
   "cell_type": "code",
   "execution_count": 46,
   "metadata": {},
   "outputs": [
    {
     "data": {
      "text/plain": [
       "<matplotlib.legend.Legend at 0x7fd6e8ef43d0>"
      ]
     },
     "execution_count": 46,
     "metadata": {},
     "output_type": "execute_result"
    },
    {
     "data": {
      "image/png": "[encoded data removed]",
      "text/plain": [
       "<Figure size 432x288 with 1 Axes>"
      ]
     },
     "metadata": {
      "needs_background": "light"
     },
     "output_type": "display_data"
    }
   ],
   "source": [
    "plt.hist(wintest['conversion'], density=True,label = \"Test\", alpha = .5)\n",
    "plt.hist(wincontrol['conversion'],density=True,label = 'Control', alpha = .5)\n",
    "plt.title('Conversions in test and control groups')\n",
    "plt.legend(loc ='center')\n"
   ]
  },
  {
   "cell_type": "code",
   "execution_count": 47,
   "metadata": {},
   "outputs": [
    {
     "data": {
      "text/plain": [
       "<matplotlib.legend.Legend at 0x7fd6e8eafc70>"
      ]
     },
     "execution_count": 47,
     "metadata": {},
     "output_type": "execute_result"
    },
    {
     "data": {
      "image/png": "[encoded data removed]",
      "text/plain": [
       "<Figure size 432x288 with 1 Axes>"
      ]
     },
     "metadata": {
      "needs_background": "light"
     },
     "output_type": "display_data"
    }
   ],
   "source": [
    "plt.hist(wintest['conversion'], density=True,label = \"Test\", alpha = .5)\n",
    "#plt.hist(wincontrol['conversion'],density=True,label = 'Control', alpha = .5)\n",
    "plt.title('Conversions in test group')\n",
    "plt.legend(loc ='center')\n"
   ]
  },
  {
   "cell_type": "code",
   "execution_count": 48,
   "metadata": {},
   "outputs": [
    {
     "data": {
      "image/png": "[encoded data removed]",
      "text/plain": [
       "<Figure size 432x288 with 1 Axes>"
      ]
     },
     "metadata": {
      "needs_background": "light"
     },
     "output_type": "display_data"
    },
    {
     "data": {
      "text/plain": [
       "MannwhitneyuResult(statistic=2769213741.5, pvalue=0.08145325354797739)"
      ]
     },
     "execution_count": 48,
     "metadata": {},
     "output_type": "execute_result"
    }
   ],
   "source": [
    "#plot sample distributions and do p test\n",
    "tests=[]\n",
    "controls=[]\n",
    "\n",
    "\n",
    "for i in range(10000):\n",
    "    tes = np.random.choice(wintest['conversion'],50, replace=True).mean()\n",
    "    con = np.random.choice(wincontrol['conversion'],50, replace=True).mean()\n",
    "    \n",
    "    controls.append(con)\n",
    "    tests.append(tes)\n",
    "\n",
    "plt.hist(controls, alpha=0.5, label='Control') \n",
    "plt.hist(tests, alpha=0.5, label='Test') \n",
    "plt.xticks(rotation=85)\n",
    "plt.legend(loc='upper right')\n",
    "plt.title('Sample mean distribution: Conversions in test and control groups')\n",
    "plt.show()\n",
    "\n",
    "mannwhitneyu(wintest['conversion'], wincontrol['conversion'])"
   ]
  },
  {
   "cell_type": "code",
   "execution_count": 49,
   "metadata": {},
   "outputs": [],
   "source": [
    "rand1=np.random.normal(1, .5, 100)\n",
    "rand1.sort()\n",
    "#tests and controls\n",
    "wtest=np.random.choice(tests,100)\n",
    "wcontrol=np.random.choice(controls,100)\n",
    "wtest.sort()\n",
    "wcontrol.sort()"
   ]
  },
  {
   "cell_type": "code",
   "execution_count": 53,
   "metadata": {},
   "outputs": [
    {
     "data": {
      "text/plain": [
       "Text(0.5, 1.0, 'Test sample means vs normal distribution')"
      ]
     },
     "execution_count": 53,
     "metadata": {},
     "output_type": "execute_result"
    },
    {
     "data": {
      "image/png": "[encoded data removed]",
      "text/plain": [
       "<Figure size 432x288 with 1 Axes>"
      ]
     },
     "metadata": {
      "needs_background": "light"
     },
     "output_type": "display_data"
    }
   ],
   "source": [
    "plt.plot(rand1,wtest,'o')\n",
    "plt.title('Test sample means vs normal distribution')"
   ]
  },
  {
   "cell_type": "code",
   "execution_count": 56,
   "metadata": {},
   "outputs": [
    {
     "data": {
      "text/plain": [
       "Text(0.5, 1.0, 'Control sample means vs normal distribution')"
      ]
     },
     "execution_count": 56,
     "metadata": {},
     "output_type": "execute_result"
    },
    {
     "data": {
      "image/png": "[encoded data removed]",
      "text/plain": [
       "<Figure size 432x288 with 1 Axes>"
      ]
     },
     "metadata": {
      "needs_background": "light"
     },
     "output_type": "display_data"
    }
   ],
   "source": [
    "plt.plot(rand1,wcontrol,'o')\n",
    "plt.title('Control sample means vs normal distribution')"
   ]
  },
  {
   "cell_type": "code",
   "execution_count": 52,
   "metadata": {},
   "outputs": [
    {
     "ename": "SyntaxError",
     "evalue": "unmatched ')' (<ipython-input-52-fda838e11c5d>, line 1)",
     "output_type": "error",
     "traceback": [
      "\u001b[0;36m  File \u001b[0;32m\"<ipython-input-52-fda838e11c5d>\"\u001b[0;36m, line \u001b[0;32m1\u001b[0m\n\u001b[0;31m    1) Define a goal and create supporting hypothesis. Also define the null hypothesis that you want to negate.\u001b[0m\n\u001b[0m     ^\u001b[0m\n\u001b[0;31mSyntaxError\u001b[0m\u001b[0;31m:\u001b[0m unmatched ')'\n"
     ]
    }
   ],
   "source": [
    "1) Define a goal and create supporting hypothesis. Also define the null hypothesis that you want to negate.\n",
    "2) Identify treatment and the control group. Control group is the one where people see the web-content without the new feature and the treatment groups is the one where people see it with the new feature. Also make sure that you always change only one thing between the treatment and the control group.\n",
    "3) Identify the key metrics to measure, for an website some typical key metrics can be number of searches made, total time spent by an user, click through rate etc.\n",
    "4) Identify which data do we need to collect to successfully run the test, e.g. User id, cookie id, page loads, any engagement at the web page etc.\n",
    "5) Make sure to enable logging everywhere , e.g. what happens if we press back button or log-out from the page etc.\n",
    "6) Decide how much difference do we need to detect in order to consider it is worth investing in the experiment. e.g we want to track an increase of 5% in total time spent by users between the treatment and the control group.\n",
    "7)What fraction of total visitors do we want to be in our treatment group ?\n",
    "8) Using the power test decide how much data do we need to collect. Please check the related function in python here.\n",
    "9) Decide duration of the test, e.g. if you experience around 1000 unique users per day and if from 8 you identify around 50,000 people to be needed to successfully conduct the experiment then you need to run this experiment for at-least 50,000/1000 = 50 days.\n",
    "10) Run a dummy A/A test where the control and the treatment groups are the same. This step is suggested to identify if there is any systematic bias in the experiment.\n",
    "\n"
   ]
  },
  {
   "cell_type": "code",
   "execution_count": null,
   "metadata": {},
   "outputs": [],
   "source": []
  }
 ],
 "metadata": {
  "kernelspec": {
   "display_name": "Python 3",
   "language": "python",
   "name": "python3"
  },
  "language_info": {
   "codemirror_mode": {
    "name": "ipython",
    "version": 3
   },
   "file_extension": ".py",
   "mimetype": "text/x-python",
   "name": "python",
   "nbconvert_exporter": "python",
   "pygments_lexer": "ipython3",
   "version": "3.8.5"
  }
 },
 "nbformat": 4,
 "nbformat_minor": 4
}
