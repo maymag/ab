{
 "cells": [
  {
   "cell_type": "code",
   "execution_count": 1,
   "metadata": {},
   "outputs": [],
   "source": [
    "import seaborn as sb\n",
    "import numpy as np\n",
    "import pandas as pd\n",
    "import matplotlib.pyplot as plt\n",
    "%matplotlib inline\n",
    "from scipy.stats import mannwhitneyu\n",
    "from scipy.stats import ttest_ind\n",
    "import json"
   ]
  },
  {
   "cell_type": "markdown",
   "metadata": {},
   "source": [
    "Valassis Digital has run a digital advertising campaign for one of our clients, targeting mobile users in the Southeast. We ran two creatives (distinct ad designs) during the campaign: a baseline creative in line with our client's previous campaigns, and a new creative designed to increase conversions. Users in a \"test\" group received the new ad during the campaign. The goal of my analysis was to answer 2 questions. Did the new creative increase conversions? Would retargeting have improved performance for this campaign?\n"
   ]
  },
  {
   "cell_type": "markdown",
   "metadata": {},
   "source": [
    "## Data Prep"
   ]
  },
  {
   "cell_type": "code",
   "execution_count": 2,
   "metadata": {},
   "outputs": [],
   "source": [
    "users=pd.read_csv('user_attributes.csv')"
   ]
  },
  {
   "cell_type": "code",
   "execution_count": 3,
   "metadata": {},
   "outputs": [
    {
     "data": {
      "text/html": [
       "<div>\n",
       "<style scoped>\n",
       "    .dataframe tbody tr th:only-of-type {\n",
       "        vertical-align: middle;\n",
       "    }\n",
       "\n",
       "    .dataframe tbody tr th {\n",
       "        vertical-align: top;\n",
       "    }\n",
       "\n",
       "    .dataframe thead th {\n",
       "        text-align: right;\n",
       "    }\n",
       "</style>\n",
       "<table border=\"1\" class=\"dataframe\">\n",
       "  <thead>\n",
       "    <tr style=\"text-align: right;\">\n",
       "      <th></th>\n",
       "      <th>user_id</th>\n",
       "      <th>attributes</th>\n",
       "    </tr>\n",
       "  </thead>\n",
       "  <tbody>\n",
       "    <tr>\n",
       "      <th>0</th>\n",
       "      <td>00003e3b9e5336685200ae85d21b4f5e</td>\n",
       "      <td>{\"age\": 33, \"gender\": \"F\", \"location\": \"FL\", \"...</td>\n",
       "    </tr>\n",
       "    <tr>\n",
       "      <th>1</th>\n",
       "      <td>000053b1e684c9e7ea73727b2238ce18</td>\n",
       "      <td>{\"age\": 26, \"gender\": \"M\", \"location\": \"AL\", \"...</td>\n",
       "    </tr>\n",
       "    <tr>\n",
       "      <th>2</th>\n",
       "      <td>00029153d12ae1c9abe59c17ff2e0895</td>\n",
       "      <td>{\"age\": 29, \"gender\": \"F\", \"location\": \"AR\", \"...</td>\n",
       "    </tr>\n",
       "    <tr>\n",
       "      <th>3</th>\n",
       "      <td>0002ac0d783338cfeab0b2bdbd872cda</td>\n",
       "      <td>{\"age\": 29, \"gender\": \"M\", \"location\": \"SC\", \"...</td>\n",
       "    </tr>\n",
       "    <tr>\n",
       "      <th>4</th>\n",
       "      <td>0004d0b59e19461ff126e3a08a814c33</td>\n",
       "      <td>{\"age\": 27, \"gender\": \"F\", \"location\": \"AR\", \"...</td>\n",
       "    </tr>\n",
       "  </tbody>\n",
       "</table>\n",
       "</div>"
      ],
      "text/plain": [
       "                            user_id  \\\n",
       "0  00003e3b9e5336685200ae85d21b4f5e   \n",
       "1  000053b1e684c9e7ea73727b2238ce18   \n",
       "2  00029153d12ae1c9abe59c17ff2e0895   \n",
       "3  0002ac0d783338cfeab0b2bdbd872cda   \n",
       "4  0004d0b59e19461ff126e3a08a814c33   \n",
       "\n",
       "                                          attributes  \n",
       "0  {\"age\": 33, \"gender\": \"F\", \"location\": \"FL\", \"...  \n",
       "1  {\"age\": 26, \"gender\": \"M\", \"location\": \"AL\", \"...  \n",
       "2  {\"age\": 29, \"gender\": \"F\", \"location\": \"AR\", \"...  \n",
       "3  {\"age\": 29, \"gender\": \"M\", \"location\": \"SC\", \"...  \n",
       "4  {\"age\": 27, \"gender\": \"F\", \"location\": \"AR\", \"...  "
      ]
     },
     "execution_count": 3,
     "metadata": {},
     "output_type": "execute_result"
    }
   ],
   "source": [
    "users.head()"
   ]
  },
  {
   "cell_type": "code",
   "execution_count": 4,
   "metadata": {},
   "outputs": [
    {
     "data": {
      "text/html": [
       "<div>\n",
       "<style scoped>\n",
       "    .dataframe tbody tr th:only-of-type {\n",
       "        vertical-align: middle;\n",
       "    }\n",
       "\n",
       "    .dataframe tbody tr th {\n",
       "        vertical-align: top;\n",
       "    }\n",
       "\n",
       "    .dataframe thead th {\n",
       "        text-align: right;\n",
       "    }\n",
       "</style>\n",
       "<table border=\"1\" class=\"dataframe\">\n",
       "  <thead>\n",
       "    <tr style=\"text-align: right;\">\n",
       "      <th></th>\n",
       "      <th>timestamp</th>\n",
       "      <th>user_id</th>\n",
       "      <th>bid</th>\n",
       "      <th>win</th>\n",
       "      <th>conversion</th>\n",
       "    </tr>\n",
       "  </thead>\n",
       "  <tbody>\n",
       "    <tr>\n",
       "      <th>0</th>\n",
       "      <td>2017-01-01 00:00:01</td>\n",
       "      <td>be7485be5b6eb3690efcbc9e95e8f15a</td>\n",
       "      <td>0</td>\n",
       "      <td>0</td>\n",
       "      <td>0</td>\n",
       "    </tr>\n",
       "    <tr>\n",
       "      <th>1</th>\n",
       "      <td>2017-01-01 00:00:02</td>\n",
       "      <td>26c5dca2512a4c7fe8810bd04191b1b3</td>\n",
       "      <td>0</td>\n",
       "      <td>0</td>\n",
       "      <td>0</td>\n",
       "    </tr>\n",
       "    <tr>\n",
       "      <th>2</th>\n",
       "      <td>2017-01-01 00:00:05</td>\n",
       "      <td>2121376a323507c01c5e92c39ae8ccd4</td>\n",
       "      <td>0</td>\n",
       "      <td>0</td>\n",
       "      <td>0</td>\n",
       "    </tr>\n",
       "    <tr>\n",
       "      <th>3</th>\n",
       "      <td>2017-01-01 00:00:12</td>\n",
       "      <td>fa6a0925d911185338b0acc93c66dc92</td>\n",
       "      <td>0</td>\n",
       "      <td>0</td>\n",
       "      <td>0</td>\n",
       "    </tr>\n",
       "    <tr>\n",
       "      <th>4</th>\n",
       "      <td>2017-01-01 00:00:13</td>\n",
       "      <td>4299f209da83da82b711f1d631cc607b</td>\n",
       "      <td>1</td>\n",
       "      <td>0</td>\n",
       "      <td>0</td>\n",
       "    </tr>\n",
       "  </tbody>\n",
       "</table>\n",
       "</div>"
      ],
      "text/plain": [
       "             timestamp                           user_id  bid  win  conversion\n",
       "0  2017-01-01 00:00:01  be7485be5b6eb3690efcbc9e95e8f15a    0    0           0\n",
       "1  2017-01-01 00:00:02  26c5dca2512a4c7fe8810bd04191b1b3    0    0           0\n",
       "2  2017-01-01 00:00:05  2121376a323507c01c5e92c39ae8ccd4    0    0           0\n",
       "3  2017-01-01 00:00:12  fa6a0925d911185338b0acc93c66dc92    0    0           0\n",
       "4  2017-01-01 00:00:13  4299f209da83da82b711f1d631cc607b    1    0           0"
      ]
     },
     "execution_count": 4,
     "metadata": {},
     "output_type": "execute_result"
    }
   ],
   "source": [
    "bids=pd.read_csv('bid_requests.csv')\n",
    "bids.head()"
   ]
  },
  {
   "cell_type": "code",
   "execution_count": 5,
   "metadata": {},
   "outputs": [],
   "source": [
    "columns=list(json.loads(users['attributes'][0]).keys())"
   ]
  },
  {
   "cell_type": "code",
   "execution_count": 6,
   "metadata": {},
   "outputs": [
    {
     "data": {
      "text/html": [
       "<div>\n",
       "<style scoped>\n",
       "    .dataframe tbody tr th:only-of-type {\n",
       "        vertical-align: middle;\n",
       "    }\n",
       "\n",
       "    .dataframe tbody tr th {\n",
       "        vertical-align: top;\n",
       "    }\n",
       "\n",
       "    .dataframe thead th {\n",
       "        text-align: right;\n",
       "    }\n",
       "</style>\n",
       "<table border=\"1\" class=\"dataframe\">\n",
       "  <thead>\n",
       "    <tr style=\"text-align: right;\">\n",
       "      <th></th>\n",
       "      <th>age</th>\n",
       "      <th>gender</th>\n",
       "      <th>location</th>\n",
       "      <th>test</th>\n",
       "      <th>user_id</th>\n",
       "    </tr>\n",
       "  </thead>\n",
       "  <tbody>\n",
       "    <tr>\n",
       "      <th>0</th>\n",
       "      <td>33</td>\n",
       "      <td>F</td>\n",
       "      <td>FL</td>\n",
       "      <td>1</td>\n",
       "      <td>00003e3b9e5336685200ae85d21b4f5e</td>\n",
       "    </tr>\n",
       "    <tr>\n",
       "      <th>1</th>\n",
       "      <td>26</td>\n",
       "      <td>M</td>\n",
       "      <td>AL</td>\n",
       "      <td>1</td>\n",
       "      <td>000053b1e684c9e7ea73727b2238ce18</td>\n",
       "    </tr>\n",
       "    <tr>\n",
       "      <th>2</th>\n",
       "      <td>29</td>\n",
       "      <td>F</td>\n",
       "      <td>AR</td>\n",
       "      <td>1</td>\n",
       "      <td>00029153d12ae1c9abe59c17ff2e0895</td>\n",
       "    </tr>\n",
       "    <tr>\n",
       "      <th>3</th>\n",
       "      <td>29</td>\n",
       "      <td>M</td>\n",
       "      <td>SC</td>\n",
       "      <td>0</td>\n",
       "      <td>0002ac0d783338cfeab0b2bdbd872cda</td>\n",
       "    </tr>\n",
       "    <tr>\n",
       "      <th>4</th>\n",
       "      <td>27</td>\n",
       "      <td>F</td>\n",
       "      <td>AR</td>\n",
       "      <td>1</td>\n",
       "      <td>0004d0b59e19461ff126e3a08a814c33</td>\n",
       "    </tr>\n",
       "  </tbody>\n",
       "</table>\n",
       "</div>"
      ],
      "text/plain": [
       "  age gender location test                           user_id\n",
       "0  33      F       FL    1  00003e3b9e5336685200ae85d21b4f5e\n",
       "1  26      M       AL    1  000053b1e684c9e7ea73727b2238ce18\n",
       "2  29      F       AR    1  00029153d12ae1c9abe59c17ff2e0895\n",
       "3  29      M       SC    0  0002ac0d783338cfeab0b2bdbd872cda\n",
       "4  27      F       AR    1  0004d0b59e19461ff126e3a08a814c33"
      ]
     },
     "execution_count": 6,
     "metadata": {},
     "output_type": "execute_result"
    }
   ],
   "source": [
    "users2=pd.DataFrame(np.asarray(list(users['attributes'].apply(lambda x: sorted(json.loads(x).items()))))[:,:,1],columns=columns)\n",
    "users2['user_id']=users['user_id']\n",
    "users2.head()"
   ]
  },
  {
   "cell_type": "code",
   "execution_count": 7,
   "metadata": {},
   "outputs": [],
   "source": [
    "users2['test']=users2['test'].apply(lambda x: int(x))\n",
    "users2['age']=users2['age'].apply(lambda x: float(x))"
   ]
  },
  {
   "cell_type": "code",
   "execution_count": 8,
   "metadata": {},
   "outputs": [],
   "source": [
    "users2=users2.drop_duplicates().reset_index(drop=True)\n",
    "bids=bids.drop_duplicates().reset_index(drop=True)\n",
    "final=users2.merge(bids,on='user_id',how='left')"
   ]
  },
  {
   "cell_type": "code",
   "execution_count": 9,
   "metadata": {},
   "outputs": [
    {
     "data": {
      "text/html": [
       "<div>\n",
       "<style scoped>\n",
       "    .dataframe tbody tr th:only-of-type {\n",
       "        vertical-align: middle;\n",
       "    }\n",
       "\n",
       "    .dataframe tbody tr th {\n",
       "        vertical-align: top;\n",
       "    }\n",
       "\n",
       "    .dataframe thead th {\n",
       "        text-align: right;\n",
       "    }\n",
       "</style>\n",
       "<table border=\"1\" class=\"dataframe\">\n",
       "  <thead>\n",
       "    <tr style=\"text-align: right;\">\n",
       "      <th></th>\n",
       "      <th>age</th>\n",
       "      <th>gender</th>\n",
       "      <th>location</th>\n",
       "      <th>test</th>\n",
       "      <th>user_id</th>\n",
       "      <th>timestamp</th>\n",
       "      <th>bid</th>\n",
       "      <th>win</th>\n",
       "      <th>conversion</th>\n",
       "    </tr>\n",
       "  </thead>\n",
       "  <tbody>\n",
       "    <tr>\n",
       "      <th>0</th>\n",
       "      <td>33.0</td>\n",
       "      <td>F</td>\n",
       "      <td>FL</td>\n",
       "      <td>1</td>\n",
       "      <td>00003e3b9e5336685200ae85d21b4f5e</td>\n",
       "      <td>2017-01-01 13:43:34</td>\n",
       "      <td>1.0</td>\n",
       "      <td>0.0</td>\n",
       "      <td>0.0</td>\n",
       "    </tr>\n",
       "    <tr>\n",
       "      <th>1</th>\n",
       "      <td>33.0</td>\n",
       "      <td>F</td>\n",
       "      <td>FL</td>\n",
       "      <td>1</td>\n",
       "      <td>00003e3b9e5336685200ae85d21b4f5e</td>\n",
       "      <td>2017-01-04 03:59:18</td>\n",
       "      <td>0.0</td>\n",
       "      <td>0.0</td>\n",
       "      <td>0.0</td>\n",
       "    </tr>\n",
       "    <tr>\n",
       "      <th>2</th>\n",
       "      <td>33.0</td>\n",
       "      <td>F</td>\n",
       "      <td>FL</td>\n",
       "      <td>1</td>\n",
       "      <td>00003e3b9e5336685200ae85d21b4f5e</td>\n",
       "      <td>2017-01-04 17:41:50</td>\n",
       "      <td>1.0</td>\n",
       "      <td>1.0</td>\n",
       "      <td>0.0</td>\n",
       "    </tr>\n",
       "    <tr>\n",
       "      <th>3</th>\n",
       "      <td>33.0</td>\n",
       "      <td>F</td>\n",
       "      <td>FL</td>\n",
       "      <td>1</td>\n",
       "      <td>00003e3b9e5336685200ae85d21b4f5e</td>\n",
       "      <td>2017-01-07 04:02:42</td>\n",
       "      <td>1.0</td>\n",
       "      <td>1.0</td>\n",
       "      <td>0.0</td>\n",
       "    </tr>\n",
       "    <tr>\n",
       "      <th>4</th>\n",
       "      <td>33.0</td>\n",
       "      <td>F</td>\n",
       "      <td>FL</td>\n",
       "      <td>1</td>\n",
       "      <td>00003e3b9e5336685200ae85d21b4f5e</td>\n",
       "      <td>2017-01-08 09:05:01</td>\n",
       "      <td>1.0</td>\n",
       "      <td>0.0</td>\n",
       "      <td>0.0</td>\n",
       "    </tr>\n",
       "  </tbody>\n",
       "</table>\n",
       "</div>"
      ],
      "text/plain": [
       "    age gender location  test                           user_id  \\\n",
       "0  33.0      F       FL     1  00003e3b9e5336685200ae85d21b4f5e   \n",
       "1  33.0      F       FL     1  00003e3b9e5336685200ae85d21b4f5e   \n",
       "2  33.0      F       FL     1  00003e3b9e5336685200ae85d21b4f5e   \n",
       "3  33.0      F       FL     1  00003e3b9e5336685200ae85d21b4f5e   \n",
       "4  33.0      F       FL     1  00003e3b9e5336685200ae85d21b4f5e   \n",
       "\n",
       "             timestamp  bid  win  conversion  \n",
       "0  2017-01-01 13:43:34  1.0  0.0         0.0  \n",
       "1  2017-01-04 03:59:18  0.0  0.0         0.0  \n",
       "2  2017-01-04 17:41:50  1.0  1.0         0.0  \n",
       "3  2017-01-07 04:02:42  1.0  1.0         0.0  \n",
       "4  2017-01-08 09:05:01  1.0  0.0         0.0  "
      ]
     },
     "execution_count": 9,
     "metadata": {},
     "output_type": "execute_result"
    }
   ],
   "source": [
    "bids=bids.dropna().reset_index(drop=True)\n",
    "users2=users2.dropna().reset_index(drop=True)\n",
    "final=final.dropna().reset_index(drop=True)\n",
    "final.head()"
   ]
  },
  {
   "cell_type": "code",
   "execution_count": 10,
   "metadata": {},
   "outputs": [],
   "source": [
    "test=pd.DataFrame(users2[users2['test']==1])\n",
    "control=pd.DataFrame(users2[users2['test']==0])"
   ]
  },
  {
   "cell_type": "code",
   "execution_count": 11,
   "metadata": {},
   "outputs": [],
   "source": [
    "test2=pd.DataFrame(final[final['test']==1])\n",
    "control2=pd.DataFrame(final[final['test']==0])"
   ]
  },
  {
   "cell_type": "markdown",
   "metadata": {},
   "source": [
    "## Find obvious bias"
   ]
  },
  {
   "cell_type": "code",
   "execution_count": 12,
   "metadata": {},
   "outputs": [
    {
     "name": "stdout",
     "output_type": "stream",
     "text": [
      "Sizes:Test 56084,Control 43916\n"
     ]
    }
   ],
   "source": [
    "print('Sizes:Test {},Control {}'.format(len(test), len(control)))"
   ]
  },
  {
   "cell_type": "code",
   "execution_count": 13,
   "metadata": {},
   "outputs": [
    {
     "name": "stdout",
     "output_type": "stream",
     "text": [
      "Gender in the test group\n"
     ]
    },
    {
     "data": {
      "text/plain": [
       "F    50.117681\n",
       "M    49.882319\n",
       "Name: gender, dtype: float64"
      ]
     },
     "execution_count": 13,
     "metadata": {},
     "output_type": "execute_result"
    }
   ],
   "source": [
    "print('Gender in the test group')\n",
    "test['gender'].value_counts()/len(test)*100"
   ]
  },
  {
   "cell_type": "code",
   "execution_count": 14,
   "metadata": {},
   "outputs": [
    {
     "name": "stdout",
     "output_type": "stream",
     "text": [
      "Gender  in the control group\n"
     ]
    },
    {
     "data": {
      "text/plain": [
       "M    50.325622\n",
       "F    49.674378\n",
       "Name: gender, dtype: float64"
      ]
     },
     "execution_count": 14,
     "metadata": {},
     "output_type": "execute_result"
    }
   ],
   "source": [
    "print('Gender  in the control group')\n",
    "control['gender'].value_counts()/len(control)*100"
   ]
  },
  {
   "cell_type": "markdown",
   "metadata": {},
   "source": [
    "#### Gender distributions in the test and control groups were about the same"
   ]
  },
  {
   "cell_type": "code",
   "execution_count": 15,
   "metadata": {},
   "outputs": [
    {
     "data": {
      "text/plain": [
       "Text(0.5, 1.0, 'Location in the test group')"
      ]
     },
     "execution_count": 15,
     "metadata": {},
     "output_type": "execute_result"
    },
    {
     "data": {
      "image/png": "[encoded data removed]",
      "text/plain": [
       "<Figure size 432x288 with 1 Axes>"
      ]
     },
     "metadata": {
      "needs_background": "light"
     },
     "output_type": "display_data"
    }
   ],
   "source": [
    "sb.countplot(test['location'].sort_values())\n",
    "plt.title('Location in the test group')"
   ]
  },
  {
   "cell_type": "code",
   "execution_count": 16,
   "metadata": {},
   "outputs": [
    {
     "data": {
      "text/plain": [
       "Text(0.5, 1.0, 'Location in the control group')"
      ]
     },
     "execution_count": 16,
     "metadata": {},
     "output_type": "execute_result"
    },
    {
     "data": {
      "image/png": "[encoded data removed]",
      "text/plain": [
       "<Figure size 432x288 with 1 Axes>"
      ]
     },
     "metadata": {
      "needs_background": "light"
     },
     "output_type": "display_data"
    }
   ],
   "source": [
    "sb.countplot(control['location'].sort_values())\n",
    "plt.title('Location in the control group')"
   ]
  },
  {
   "cell_type": "markdown",
   "metadata": {},
   "source": [
    "#### Location distributions in the test and control groups were different"
   ]
  },
  {
   "cell_type": "code",
   "execution_count": 17,
   "metadata": {},
   "outputs": [
    {
     "name": "stdout",
     "output_type": "stream",
     "text": [
      "Age in the test and control groups\n",
      "Medians: Test 25.0,Control 25.0\n",
      "Means: Test 25.493830682547607,Control 25.488364149740413\n",
      "Standard Deviation: Test 4.6043110471866955,Control 4.599852715678207\n"
     ]
    }
   ],
   "source": [
    "print('Age in the test and control groups')\n",
    "print('Medians: Test {},Control {}'.format(np.median(test['age']), np.median(control['age'])))\n",
    "print('Means: Test {},Control {}'.format(np.mean(test['age']), np.mean(control['age'])))\n",
    "print('Standard Deviation: Test {},Control {}'.format(np.std(test['age']),np.std(control['age'])))"
   ]
  },
  {
   "cell_type": "code",
   "execution_count": 18,
   "metadata": {},
   "outputs": [
    {
     "data": {
      "text/plain": [
       "<matplotlib.legend.Legend at 0x7f616668fd30>"
      ]
     },
     "execution_count": 18,
     "metadata": {},
     "output_type": "execute_result"
    },
    {
     "data": {
      "image/png": "[encoded data removed]",
      "text/plain": [
       "<Figure size 432x288 with 1 Axes>"
      ]
     },
     "metadata": {
      "needs_background": "light"
     },
     "output_type": "display_data"
    }
   ],
   "source": [
    "plt.hist(test['age'], density=True,label = \"Test\", alpha = .4)\n",
    "plt.hist(control['age'],density=True,label = 'Control', alpha = .4)\n",
    "plt.title('Age in test and control groups')\n",
    "plt.legend(loc ='lower right')"
   ]
  },
  {
   "cell_type": "code",
   "execution_count": 19,
   "metadata": {},
   "outputs": [
    {
     "data": {
      "text/plain": [
       "<matplotlib.legend.Legend at 0x7f61666148e0>"
      ]
     },
     "execution_count": 19,
     "metadata": {},
     "output_type": "execute_result"
    },
    {
     "data": {
      "image/png": "[encoded data removed]",
      "text/plain": [
       "<Figure size 432x288 with 1 Axes>"
      ]
     },
     "metadata": {
      "needs_background": "light"
     },
     "output_type": "display_data"
    }
   ],
   "source": [
    "plt.hist(test['age'], density=True,label = \"Test\", alpha = .4)\n",
    "\n",
    "plt.title('Age in test group')\n",
    "plt.legend(loc ='lower right')"
   ]
  },
  {
   "cell_type": "markdown",
   "metadata": {},
   "source": [
    "#### Age distributions in the test and control groups were about the same"
   ]
  },
  {
   "cell_type": "markdown",
   "metadata": {},
   "source": [
    "## Experiment results"
   ]
  },
  {
   "cell_type": "code",
   "execution_count": 20,
   "metadata": {},
   "outputs": [
    {
     "name": "stdout",
     "output_type": "stream",
     "text": [
      "Percentage of Bids\n",
      "Test 49.97025685646047,Control 49.977680870789406\n"
     ]
    }
   ],
   "source": [
    "print(\"Percentage of Bids\")\n",
    "print('Test {},Control {}'.format(np.mean(test2['bid'])*100,np.mean(control2['bid'])*100))"
   ]
  },
  {
   "cell_type": "code",
   "execution_count": 21,
   "metadata": {},
   "outputs": [
    {
     "name": "stdout",
     "output_type": "stream",
     "text": [
      "Percentage of Bids Won\n",
      "Test 50.101867974367174,Control 50.05076529638536\n"
     ]
    }
   ],
   "source": [
    "#only look at wins for bids\n",
    "bidtest=test2[test2['bid']==1]\n",
    "bidcontrol=control2[control2['bid']==1]\n",
    "\n",
    "print(\"Percentage of Bids Won\")\n",
    "print('Test {},Control {}'.format(np.mean(bidtest['win'])*100,np.mean(bidcontrol['win'])*100))"
   ]
  },
  {
   "cell_type": "code",
   "execution_count": 22,
   "metadata": {},
   "outputs": [
    {
     "name": "stdout",
     "output_type": "stream",
     "text": [
      "Conversion rate\n",
      "Test 4.009693244281578,Control 4.153193825880056\n"
     ]
    }
   ],
   "source": [
    "#only look at conversions for wins in each group\n",
    "wintest=test2[test2['win']==1]\n",
    "wincontrol=control2[control2['win']==1]\n",
    "\n",
    "print(\"Conversion rate\")\n",
    "print('Test {},Control {}'.format(np.mean(wintest['conversion'])*100,np.mean(wincontrol['conversion'])*100))"
   ]
  },
  {
   "cell_type": "code",
   "execution_count": 39,
   "metadata": {},
   "outputs": [
    {
     "data": {
      "text/plain": [
       "<matplotlib.legend.Legend at 0x7f61662e3370>"
      ]
     },
     "execution_count": 39,
     "metadata": {},
     "output_type": "execute_result"
    },
    {
     "data": {
      "image/png": "[encoded data removed]",
      "text/plain": [
       "<Figure size 432x288 with 1 Axes>"
      ]
     },
     "metadata": {
      "needs_background": "light"
     },
     "output_type": "display_data"
    }
   ],
   "source": [
    "plt.hist(wintest['conversion'], density=True,alpha=0.5,label = \"Test\")\n",
    "plt.hist(wincontrol['conversion'],density=True,alpha=0.3,label = 'Control')\n",
    "plt.title('Conversions in test and control groups')\n",
    "plt.legend(loc ='lower center')\n"
   ]
  },
  {
   "cell_type": "code",
   "execution_count": 24,
   "metadata": {},
   "outputs": [
    {
     "data": {
      "text/plain": [
       "<matplotlib.legend.Legend at 0x7f6166549d90>"
      ]
     },
     "execution_count": 24,
     "metadata": {},
     "output_type": "execute_result"
    },
    {
     "data": {
      "image/png": "[encoded data removed]",
      "text/plain": [
       "<Figure size 432x288 with 1 Axes>"
      ]
     },
     "metadata": {
      "needs_background": "light"
     },
     "output_type": "display_data"
    }
   ],
   "source": [
    "plt.hist(wintest['conversion'], density=True,label = \"Test\", alpha = .5)\n",
    "#plt.hist(wincontrol['conversion'],density=True,label = 'Control', alpha = .5)\n",
    "plt.title('Conversions in test group')\n",
    "plt.legend(loc ='lower center')\n"
   ]
  },
  {
   "cell_type": "code",
   "execution_count": 25,
   "metadata": {},
   "outputs": [
    {
     "data": {
      "image/png": "[encoded data removed]",
      "text/plain": [
       "<Figure size 432x288 with 1 Axes>"
      ]
     },
     "metadata": {
      "needs_background": "light"
     },
     "output_type": "display_data"
    },
    {
     "data": {
      "text/plain": [
       "MannwhitneyuResult(statistic=2769213741.5, pvalue=0.08145325354797739)"
      ]
     },
     "execution_count": 25,
     "metadata": {},
     "output_type": "execute_result"
    }
   ],
   "source": [
    "#plot sample mean distributions and do p test\n",
    "tests=[]\n",
    "controls=[]\n",
    "\n",
    "\n",
    "for i in range(10000):\n",
    "    tes = np.random.choice(wintest['conversion'],50, replace=True).mean()\n",
    "    con = np.random.choice(wincontrol['conversion'], 50, replace=True).mean()\n",
    "    \n",
    "    controls.append(con)\n",
    "    tests.append(tes)\n",
    "\n",
    "plt.hist(controls, alpha=0.5, density=True,label='Control') \n",
    "plt.hist(tests, alpha=0.3, density=True,label='Test') \n",
    "plt.xticks(rotation=85)\n",
    "plt.legend(loc='upper right')\n",
    "plt.title('Sample Means: Wins Converted')\n",
    "plt.show()\n",
    "\n",
    "mannwhitneyu(wintest['conversion'], wincontrol['conversion'])"
   ]
  },
  {
   "cell_type": "markdown",
   "metadata": {},
   "source": [
    "#### DISTRIBUTION IS SKEWED.  P value for Mann Whitney U test shows that differences in conversion rates between test and control groups are probably random."
   ]
  },
  {
   "cell_type": "markdown",
   "metadata": {},
   "source": [
    "### Q-Q Plots"
   ]
  },
  {
   "cell_type": "code",
   "execution_count": 26,
   "metadata": {},
   "outputs": [],
   "source": [
    "rand1=np.random.normal(1, .5, 100)\n",
    "rand1.sort()\n",
    "#tests and controls\n",
    "wtest=np.random.choice(tests,100)\n",
    "wcontrol=np.random.choice(controls,100)\n",
    "wtest.sort()\n",
    "wcontrol.sort()"
   ]
  },
  {
   "cell_type": "code",
   "execution_count": 27,
   "metadata": {},
   "outputs": [
    {
     "data": {
      "text/plain": [
       "Text(0.5, 1.0, 'Test sample means vs normal distribution')"
      ]
     },
     "execution_count": 27,
     "metadata": {},
     "output_type": "execute_result"
    },
    {
     "data": {
      "image/png": "[encoded data removed]",
      "text/plain": [
       "<Figure size 432x288 with 1 Axes>"
      ]
     },
     "metadata": {
      "needs_background": "light"
     },
     "output_type": "display_data"
    }
   ],
   "source": [
    "plt.plot(rand1,wtest,'o')\n",
    "plt.title('Test sample means vs normal distribution')"
   ]
  },
  {
   "cell_type": "code",
   "execution_count": 28,
   "metadata": {},
   "outputs": [
    {
     "data": {
      "text/plain": [
       "Text(0.5, 1.0, 'Control sample means vs normal distribution')"
      ]
     },
     "execution_count": 28,
     "metadata": {},
     "output_type": "execute_result"
    },
    {
     "data": {
      "image/png": "[encoded data removed]",
      "text/plain": [
       "<Figure size 432x288 with 1 Axes>"
      ]
     },
     "metadata": {
      "needs_background": "light"
     },
     "output_type": "display_data"
    }
   ],
   "source": [
    "plt.plot(rand1,wcontrol,'o')\n",
    "plt.title('Control sample means vs normal distribution')"
   ]
  },
  {
   "cell_type": "markdown",
   "metadata": {},
   "source": [
    "## Retargeting"
   ]
  },
  {
   "cell_type": "code",
   "execution_count": 29,
   "metadata": {},
   "outputs": [],
   "source": [
    "bidsgrp=pd.DataFrame(bids.groupby(['user_id'])[['bid','win','conversion']].sum())"
   ]
  },
  {
   "cell_type": "code",
   "execution_count": 30,
   "metadata": {},
   "outputs": [],
   "source": [
    "rewin=pd.DataFrame(bidsgrp[bidsgrp['win']>1])\n",
    "rewin['reconvert']=np.where(rewin['conversion']>1,1,0)"
   ]
  },
  {
   "cell_type": "code",
   "execution_count": 31,
   "metadata": {},
   "outputs": [
    {
     "name": "stdout",
     "output_type": "stream",
     "text": [
      "Percentage of users served more than once that converted more than once\n",
      "1.2141714525476621\n"
     ]
    }
   ],
   "source": [
    "print(\"Percentage of users served more than once that converted more than once\")\n",
    "print(np.mean(rewin['reconvert'])*100)"
   ]
  },
  {
   "cell_type": "markdown",
   "metadata": {},
   "source": [
    "####  *Doesn't make sense to target previously converted users"
   ]
  },
  {
   "cell_type": "code",
   "execution_count": 32,
   "metadata": {},
   "outputs": [],
   "source": [
    "wins=pd.DataFrame(bids[bids['win']>0])\n",
    "wins=wins.sort_values(['user_id','timestamp']).reset_index(drop=True)"
   ]
  },
  {
   "cell_type": "code",
   "execution_count": 33,
   "metadata": {},
   "outputs": [],
   "source": [
    "#I don't know how many times they saw the ad outside the study period"
   ]
  },
  {
   "cell_type": "code",
   "execution_count": 34,
   "metadata": {},
   "outputs": [],
   "source": [
    "save='goo'\n",
    "times=[]\n",
    "for i in wins['user_id']:\n",
    "    if save==i:\n",
    "        count+=1\n",
    "    else:\n",
    "        count=1\n",
    "    times.append(count)\n",
    "    save=i\n",
    "wins['times']=times"
   ]
  },
  {
   "cell_type": "code",
   "execution_count": 35,
   "metadata": {},
   "outputs": [],
   "source": [
    "converted=pd.DataFrame(wins[wins['conversion']==1])"
   ]
  },
  {
   "cell_type": "code",
   "execution_count": 36,
   "metadata": {},
   "outputs": [
    {
     "data": {
      "text/html": [
       "<div>\n",
       "<style scoped>\n",
       "    .dataframe tbody tr th:only-of-type {\n",
       "        vertical-align: middle;\n",
       "    }\n",
       "\n",
       "    .dataframe tbody tr th {\n",
       "        vertical-align: top;\n",
       "    }\n",
       "\n",
       "    .dataframe thead th {\n",
       "        text-align: right;\n",
       "    }\n",
       "</style>\n",
       "<table border=\"1\" class=\"dataframe\">\n",
       "  <thead>\n",
       "    <tr style=\"text-align: right;\">\n",
       "      <th></th>\n",
       "      <th>timestamp</th>\n",
       "      <th>user_id</th>\n",
       "      <th>bid</th>\n",
       "      <th>win</th>\n",
       "      <th>conversion</th>\n",
       "      <th>times</th>\n",
       "    </tr>\n",
       "  </thead>\n",
       "  <tbody>\n",
       "    <tr>\n",
       "      <th>15</th>\n",
       "      <td>2017-01-13 02:52:36</td>\n",
       "      <td>0007cda84fafdcf42f96c4f4adb7f8ce</td>\n",
       "      <td>1</td>\n",
       "      <td>1</td>\n",
       "      <td>1</td>\n",
       "      <td>1</td>\n",
       "    </tr>\n",
       "    <tr>\n",
       "      <th>92</th>\n",
       "      <td>2017-01-07 22:03:12</td>\n",
       "      <td>002572981e2eebd53b48809982cd3684</td>\n",
       "      <td>1</td>\n",
       "      <td>1</td>\n",
       "      <td>1</td>\n",
       "      <td>2</td>\n",
       "    </tr>\n",
       "    <tr>\n",
       "      <th>153</th>\n",
       "      <td>2017-01-07 15:39:09</td>\n",
       "      <td>003ae4e8b9f59b0aa0910ba1f5e35735</td>\n",
       "      <td>1</td>\n",
       "      <td>1</td>\n",
       "      <td>1</td>\n",
       "      <td>1</td>\n",
       "    </tr>\n",
       "    <tr>\n",
       "      <th>159</th>\n",
       "      <td>2017-01-16 09:00:40</td>\n",
       "      <td>003bed21fddc817050c8fa11897fe660</td>\n",
       "      <td>1</td>\n",
       "      <td>1</td>\n",
       "      <td>1</td>\n",
       "      <td>3</td>\n",
       "    </tr>\n",
       "    <tr>\n",
       "      <th>165</th>\n",
       "      <td>2017-01-21 17:24:03</td>\n",
       "      <td>003da94355a506f1f294090c173e7b73</td>\n",
       "      <td>1</td>\n",
       "      <td>1</td>\n",
       "      <td>1</td>\n",
       "      <td>4</td>\n",
       "    </tr>\n",
       "  </tbody>\n",
       "</table>\n",
       "</div>"
      ],
      "text/plain": [
       "               timestamp                           user_id  bid  win  \\\n",
       "15   2017-01-13 02:52:36  0007cda84fafdcf42f96c4f4adb7f8ce    1    1   \n",
       "92   2017-01-07 22:03:12  002572981e2eebd53b48809982cd3684    1    1   \n",
       "153  2017-01-07 15:39:09  003ae4e8b9f59b0aa0910ba1f5e35735    1    1   \n",
       "159  2017-01-16 09:00:40  003bed21fddc817050c8fa11897fe660    1    1   \n",
       "165  2017-01-21 17:24:03  003da94355a506f1f294090c173e7b73    1    1   \n",
       "\n",
       "     conversion  times  \n",
       "15            1      1  \n",
       "92            1      2  \n",
       "153           1      1  \n",
       "159           1      3  \n",
       "165           1      4  "
      ]
     },
     "execution_count": 36,
     "metadata": {},
     "output_type": "execute_result"
    }
   ],
   "source": [
    "converted.head()"
   ]
  },
  {
   "cell_type": "code",
   "execution_count": 37,
   "metadata": {},
   "outputs": [
    {
     "data": {
      "text/plain": [
       "Text(0.5, 1.0, 'User impressions before conversion')"
      ]
     },
     "execution_count": 37,
     "metadata": {},
     "output_type": "execute_result"
    },
    {
     "data": {
      "image/png": "[encoded data removed]",
      "text/plain": [
       "<Figure size 432x288 with 1 Axes>"
      ]
     },
     "metadata": {
      "needs_background": "light"
     },
     "output_type": "display_data"
    }
   ],
   "source": [
    "fig=sb.countplot(converted['times'])\n",
    "fig.set(xlabel=\"User impressions before conversion\",ylabel=\"Number of users\")\n",
    "plt.title('User impressions before conversion')"
   ]
  },
  {
   "cell_type": "markdown",
   "metadata": {},
   "source": [
    "####  *Doesn't make sense to target previous visitors"
   ]
  },
  {
   "cell_type": "markdown",
   "metadata": {},
   "source": [
    "Exercises / Questions\n",
    "    1. What do the different distributions of requests by user tell us?\n",
    "    \n",
    "The distributions of user characteristics in the test and control groups were about the same except for their locations. Some bias was introduced due to the distribution of user locations being different in the test and control groups.\n",
    "\n",
    "The percentage of bids and bids won were about the same for the test and control groups, but the percentage of wins converted was slightly higher in the control group. I looked at the distribution of sample means for wins converted and I found that it was skewed. I used a Mann Whitney U test to see if the differences between the test and control results were random. The p-value is above 0.05, which means that the slight difference between the test and control results was probably random and not a result of changing the ad creative.\n",
    "\n",
    "    2. Based on insights from #1, was the test effective?\n",
    "Were test users more likely to convert than control users? No.\n",
    "\n",
    "\n",
    "    3. Should we consider retargeting users that have previously converted?\n",
    "Would retargeting users in this campaign have improved performance? Only one percent of users served more than once converted more than once. Retargeting previously converted users probably would not have made a big difference. Additionally, inside the campaign period the conversion rate did not increase as the number of user impressions increased. Probably it would not have made sense to target previous visitors."
   ]
  },
  {
   "cell_type": "code",
   "execution_count": null,
   "metadata": {},
   "outputs": [],
   "source": []
  }
 ],
 "metadata": {
  "kernelspec": {
   "display_name": "Python 3",
   "language": "python",
   "name": "python3"
  },
  "language_info": {
   "codemirror_mode": {
    "name": "ipython",
    "version": 3
   },
   "file_extension": ".py",
   "mimetype": "text/x-python",
   "name": "python",
   "nbconvert_exporter": "python",
   "pygments_lexer": "ipython3",
   "version": "3.8.5"
  }
 },
 "nbformat": 4,
 "nbformat_minor": 4
}
